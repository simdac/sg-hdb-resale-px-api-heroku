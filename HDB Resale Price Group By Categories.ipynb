{
 "cells": [
  {
   "cell_type": "markdown",
   "metadata": {},
   "source": [
    "Import Python libraries"
   ]
  },
  {
   "cell_type": "code",
   "execution_count": 1,
   "metadata": {},
   "outputs": [],
   "source": [
    "import pandas as pd\n",
    "import numpy as np\n",
    "import seaborn as sns\n",
    "import matplotlib.pyplot as plt"
   ]
  },
  {
   "cell_type": "markdown",
   "metadata": {},
   "source": [
    "Importing Data "
   ]
  },
  {
   "cell_type": "code",
   "execution_count": 2,
   "metadata": {},
   "outputs": [
    {
     "name": "stderr",
     "output_type": "stream",
     "text": [
      "C:\\Users\\User\\Anaconda3\\lib\\site-packages\\ipykernel_launcher.py:7: FutureWarning: Sorting because non-concatenation axis is not aligned. A future version\n",
      "of pandas will change to not sort by default.\n",
      "\n",
      "To accept the future behavior, pass 'sort=False'.\n",
      "\n",
      "To retain the current behavior and silence the warning, pass 'sort=True'.\n",
      "\n",
      "  import sys\n"
     ]
    },
    {
     "data": {
      "text/html": [
       "<div>\n",
       "<style scoped>\n",
       "    .dataframe tbody tr th:only-of-type {\n",
       "        vertical-align: middle;\n",
       "    }\n",
       "\n",
       "    .dataframe tbody tr th {\n",
       "        vertical-align: top;\n",
       "    }\n",
       "\n",
       "    .dataframe thead th {\n",
       "        text-align: right;\n",
       "    }\n",
       "</style>\n",
       "<table border=\"1\" class=\"dataframe\">\n",
       "  <thead>\n",
       "    <tr style=\"text-align: right;\">\n",
       "      <th></th>\n",
       "      <th>block</th>\n",
       "      <th>flat_model</th>\n",
       "      <th>flat_type</th>\n",
       "      <th>floor_area_sqm</th>\n",
       "      <th>lease_commence_date</th>\n",
       "      <th>month</th>\n",
       "      <th>remaining_lease</th>\n",
       "      <th>resale_price</th>\n",
       "      <th>storey_range</th>\n",
       "      <th>street_name</th>\n",
       "      <th>town</th>\n",
       "    </tr>\n",
       "  </thead>\n",
       "  <tbody>\n",
       "    <tr>\n",
       "      <th>0</th>\n",
       "      <td>309</td>\n",
       "      <td>IMPROVED</td>\n",
       "      <td>1 ROOM</td>\n",
       "      <td>31.0</td>\n",
       "      <td>1977</td>\n",
       "      <td>1990-01</td>\n",
       "      <td>NaN</td>\n",
       "      <td>9000.0</td>\n",
       "      <td>10 TO 12</td>\n",
       "      <td>ANG MO KIO AVE 1</td>\n",
       "      <td>ANG MO KIO</td>\n",
       "    </tr>\n",
       "    <tr>\n",
       "      <th>1</th>\n",
       "      <td>309</td>\n",
       "      <td>IMPROVED</td>\n",
       "      <td>1 ROOM</td>\n",
       "      <td>31.0</td>\n",
       "      <td>1977</td>\n",
       "      <td>1990-01</td>\n",
       "      <td>NaN</td>\n",
       "      <td>6000.0</td>\n",
       "      <td>04 TO 06</td>\n",
       "      <td>ANG MO KIO AVE 1</td>\n",
       "      <td>ANG MO KIO</td>\n",
       "    </tr>\n",
       "    <tr>\n",
       "      <th>2</th>\n",
       "      <td>309</td>\n",
       "      <td>IMPROVED</td>\n",
       "      <td>1 ROOM</td>\n",
       "      <td>31.0</td>\n",
       "      <td>1977</td>\n",
       "      <td>1990-01</td>\n",
       "      <td>NaN</td>\n",
       "      <td>8000.0</td>\n",
       "      <td>10 TO 12</td>\n",
       "      <td>ANG MO KIO AVE 1</td>\n",
       "      <td>ANG MO KIO</td>\n",
       "    </tr>\n",
       "    <tr>\n",
       "      <th>3</th>\n",
       "      <td>309</td>\n",
       "      <td>IMPROVED</td>\n",
       "      <td>1 ROOM</td>\n",
       "      <td>31.0</td>\n",
       "      <td>1977</td>\n",
       "      <td>1990-01</td>\n",
       "      <td>NaN</td>\n",
       "      <td>6000.0</td>\n",
       "      <td>07 TO 09</td>\n",
       "      <td>ANG MO KIO AVE 1</td>\n",
       "      <td>ANG MO KIO</td>\n",
       "    </tr>\n",
       "    <tr>\n",
       "      <th>4</th>\n",
       "      <td>216</td>\n",
       "      <td>NEW GENERATION</td>\n",
       "      <td>3 ROOM</td>\n",
       "      <td>73.0</td>\n",
       "      <td>1976</td>\n",
       "      <td>1990-01</td>\n",
       "      <td>NaN</td>\n",
       "      <td>47200.0</td>\n",
       "      <td>04 TO 06</td>\n",
       "      <td>ANG MO KIO AVE 1</td>\n",
       "      <td>ANG MO KIO</td>\n",
       "    </tr>\n",
       "  </tbody>\n",
       "</table>\n",
       "</div>"
      ],
      "text/plain": [
       "  block      flat_model flat_type  floor_area_sqm  lease_commence_date  \\\n",
       "0   309        IMPROVED    1 ROOM            31.0                 1977   \n",
       "1   309        IMPROVED    1 ROOM            31.0                 1977   \n",
       "2   309        IMPROVED    1 ROOM            31.0                 1977   \n",
       "3   309        IMPROVED    1 ROOM            31.0                 1977   \n",
       "4   216  NEW GENERATION    3 ROOM            73.0                 1976   \n",
       "\n",
       "     month remaining_lease  resale_price storey_range       street_name  \\\n",
       "0  1990-01             NaN        9000.0     10 TO 12  ANG MO KIO AVE 1   \n",
       "1  1990-01             NaN        6000.0     04 TO 06  ANG MO KIO AVE 1   \n",
       "2  1990-01             NaN        8000.0     10 TO 12  ANG MO KIO AVE 1   \n",
       "3  1990-01             NaN        6000.0     07 TO 09  ANG MO KIO AVE 1   \n",
       "4  1990-01             NaN       47200.0     04 TO 06  ANG MO KIO AVE 1   \n",
       "\n",
       "         town  \n",
       "0  ANG MO KIO  \n",
       "1  ANG MO KIO  \n",
       "2  ANG MO KIO  \n",
       "3  ANG MO KIO  \n",
       "4  ANG MO KIO  "
      ]
     },
     "execution_count": 2,
     "metadata": {},
     "output_type": "execute_result"
    }
   ],
   "source": [
    "df1 = pd.read_csv('resale-flat-prices-based-on-approval-date-1990-1999.csv')\n",
    "df2 = pd.read_csv('resale-flat-prices-based-on-approval-date-2000-feb-2012.csv')\n",
    "df3 = pd.read_csv('resale-flat-prices-based-on-registration-date-from-jan-2015-to-dec-2016.csv')\n",
    "df4 = pd.read_csv('resale-flat-prices-based-on-registration-date-from-jan-2017-onwards.csv')\n",
    "df5 = pd.read_csv('resale-flat-prices-based-on-registration-date-from-mar-2012-to-dec-2014.csv')\n",
    "\n",
    "df = pd.concat([df1,df2,df3,df4,df5])\n",
    "df.head() "
   ]
  },
  {
   "cell_type": "code",
   "execution_count": 3,
   "metadata": {},
   "outputs": [
    {
     "data": {
      "text/plain": [
       "town\n",
       "ANG MO KIO         235250.249542\n",
       "BEDOK              253920.735670\n",
       "BISHAN             391334.333490\n",
       "BUKIT BATOK        252807.534832\n",
       "BUKIT MERAH        310558.492235\n",
       "BUKIT PANJANG      300809.572137\n",
       "BUKIT TIMAH        414493.776180\n",
       "CENTRAL AREA       289895.599818\n",
       "CHOA CHU KANG      320620.749200\n",
       "CLEMENTI           255295.144079\n",
       "GEYLANG            247433.172049\n",
       "HOUGANG            290583.261059\n",
       "JURONG EAST        261976.139516\n",
       "JURONG WEST        271752.464557\n",
       "KALLANG/WHAMPOA    284114.647241\n",
       "LIM CHU KANG        63660.937500\n",
       "MARINE PARADE      317198.164835\n",
       "PASIR RIS          383389.788347\n",
       "PUNGGOL            435644.625503\n",
       "QUEENSTOWN         254328.019892\n",
       "SEMBAWANG          349428.574961\n",
       "SENGKANG           396973.121688\n",
       "SERANGOON          304643.291661\n",
       "TAMPINES           310656.772543\n",
       "TOA PAYOH          274915.810160\n",
       "WOODLANDS          287832.198252\n",
       "YISHUN             245146.631065\n",
       "Name: resale_price, dtype: float64"
      ]
     },
     "execution_count": 3,
     "metadata": {},
     "output_type": "execute_result"
    }
   ],
   "source": [
    "df.groupby(['town'])['resale_price'].mean()"
   ]
  },
  {
   "cell_type": "code",
   "execution_count": 4,
   "metadata": {},
   "outputs": [
    {
     "data": {
      "text/plain": [
       "flat_type\n",
       "1 ROOM               62160.273734\n",
       "2 ROOM              123394.305666\n",
       "3 ROOM              183974.268583\n",
       "4 ROOM              292104.751138\n",
       "5 ROOM              393678.015219\n",
       "EXECUTIVE           478771.653479\n",
       "MULTI GENERATION    453941.175627\n",
       "MULTI-GENERATION    556889.079070\n",
       "Name: resale_price, dtype: float64"
      ]
     },
     "execution_count": 4,
     "metadata": {},
     "output_type": "execute_result"
    }
   ],
   "source": [
    "df.groupby(['flat_type'])['resale_price'].mean()"
   ]
  },
  {
   "cell_type": "code",
   "execution_count": 5,
   "metadata": {},
   "outputs": [
    {
     "data": {
      "text/plain": [
       "storey_range\n",
       "01 TO 03    2.706257e+05\n",
       "01 TO 05    4.305680e+05\n",
       "04 TO 06    2.754204e+05\n",
       "06 TO 10    4.515410e+05\n",
       "07 TO 09    2.779310e+05\n",
       "10 TO 12    2.845763e+05\n",
       "11 TO 15    4.705736e+05\n",
       "13 TO 15    3.353769e+05\n",
       "16 TO 18    3.827351e+05\n",
       "16 TO 20    5.536002e+05\n",
       "19 TO 21    4.078582e+05\n",
       "21 TO 25    6.315790e+05\n",
       "22 TO 24    4.508287e+05\n",
       "25 TO 27    5.078180e+05\n",
       "26 TO 30    6.847250e+05\n",
       "28 TO 30    6.359409e+05\n",
       "31 TO 33    7.801576e+05\n",
       "31 TO 35    7.065000e+05\n",
       "34 TO 36    7.985895e+05\n",
       "36 TO 40    7.178411e+05\n",
       "37 TO 39    8.142736e+05\n",
       "40 TO 42    8.366095e+05\n",
       "43 TO 45    1.005000e+06\n",
       "46 TO 48    9.909118e+05\n",
       "49 TO 51    9.982210e+05\n",
       "Name: resale_price, dtype: float64"
      ]
     },
     "execution_count": 5,
     "metadata": {},
     "output_type": "execute_result"
    }
   ],
   "source": [
    "df.groupby(['storey_range'])['resale_price'].mean()"
   ]
  },
  {
   "cell_type": "code",
   "execution_count": 6,
   "metadata": {},
   "outputs": [
    {
     "data": {
      "text/plain": [
       "remaining_lease\n",
       "48                    250000.000000\n",
       "49                    294986.090909\n",
       "50                    286397.101449\n",
       "51                    311039.394737\n",
       "52                    310562.353909\n",
       "53                    311646.411111\n",
       "54                    320520.140097\n",
       "55                    359259.076685\n",
       "56                    376027.972973\n",
       "57                    403375.775176\n",
       "58                    404995.659774\n",
       "59                    387169.982669\n",
       "60                    391845.447489\n",
       "61                    389961.110635\n",
       "62                    390288.765918\n",
       "63                    378737.605566\n",
       "64                    375587.064738\n",
       "65                    378046.998102\n",
       "66                    396984.216152\n",
       "67                    400127.815832\n",
       "68                    401634.826031\n",
       "69                    406265.570569\n",
       "70                    406713.991773\n",
       "71                    418327.431080\n",
       "72                    431406.241076\n",
       "73                    433590.230248\n",
       "74                    498086.520833\n",
       "75                    513796.252412\n",
       "76                    491011.601220\n",
       "77                    485434.066787\n",
       "                          ...      \n",
       "94 years 04 months    474248.322751\n",
       "94 years 05 months    470339.231707\n",
       "94 years 06 months    451748.911243\n",
       "94 years 07 months    455307.466667\n",
       "94 years 08 months    445725.623894\n",
       "94 years 09 months    443250.486056\n",
       "94 years 10 months    440754.381679\n",
       "94 years 11 months    455494.731634\n",
       "95 years              448510.927660\n",
       "95 years 0 months     210000.000000\n",
       "95 years 01 month     451765.859873\n",
       "95 years 02 months    438514.356688\n",
       "95 years 03 months    469815.080986\n",
       "95 years 04 months    456200.429719\n",
       "95 years 05 months    436300.534413\n",
       "95 years 06 months    441823.064935\n",
       "95 years 07 months    428068.119403\n",
       "95 years 08 months    417618.894737\n",
       "95 years 09 months    415593.548387\n",
       "95 years 10 months    475843.914894\n",
       "95 years 11 months    439367.040000\n",
       "96 years              488000.000000\n",
       "96 years 01 month     615777.600000\n",
       "96 years 02 months    750808.000000\n",
       "96 years 03 months    799000.000000\n",
       "96 years 04 months    957666.666667\n",
       "96 years 05 months    839000.000000\n",
       "96 years 06 months    861000.000000\n",
       "96 years 07 months    462500.000000\n",
       "96 years 08 months    695000.000000\n",
       "Name: resale_price, Length: 657, dtype: float64"
      ]
     },
     "execution_count": 6,
     "metadata": {},
     "output_type": "execute_result"
    }
   ],
   "source": [
    "df.groupby(['remaining_lease'])['resale_price'].mean()"
   ]
  }
 ],
 "metadata": {
  "kernelspec": {
   "display_name": "Python 3",
   "language": "python",
   "name": "python3"
  },
  "language_info": {
   "codemirror_mode": {
    "name": "ipython",
    "version": 3
   },
   "file_extension": ".py",
   "mimetype": "text/x-python",
   "name": "python",
   "nbconvert_exporter": "python",
   "pygments_lexer": "ipython3",
   "version": "3.7.0"
  }
 },
 "nbformat": 4,
 "nbformat_minor": 2
}
