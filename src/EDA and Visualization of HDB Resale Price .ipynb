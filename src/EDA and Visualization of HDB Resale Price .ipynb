{
 "cells": [
  {
   "cell_type": "code",
   "execution_count": 1,
   "metadata": {},
   "outputs": [],
   "source": [
    "# Import python libraries \n",
    "import pandas as pd\n",
    "import glob     \n",
    "import numpy\n",
    "import matplotlib.pyplot"
   ]
  },
  {
   "cell_type": "code",
   "execution_count": 2,
   "metadata": {},
   "outputs": [],
   "source": [
    "# Use glob to match the pattern ‘csv’\n",
    "filenames = glob.glob('resale-flat-prices*.csv')\n",
    "filenames = filenames[0:]"
   ]
  },
  {
   "cell_type": "code",
   "execution_count": 3,
   "metadata": {},
   "outputs": [
    {
     "name": "stderr",
     "output_type": "stream",
     "text": [
      "C:\\Users\\User\\Anaconda3\\lib\\site-packages\\ipykernel_launcher.py:2: FutureWarning: Sorting because non-concatenation axis is not aligned. A future version\n",
      "of pandas will change to not sort by default.\n",
      "\n",
      "To accept the future behavior, pass 'sort=False'.\n",
      "\n",
      "To retain the current behavior and silence the warning, pass 'sort=True'.\n",
      "\n",
      "  \n"
     ]
    }
   ],
   "source": [
    "# Combine all files in the list and export as CSV\n",
    "combined_csv = pd.concat([pd.read_csv(f) for f in filenames])\n",
    "combined_csv.to_csv( \"combined_csv.csv\", index=False, encoding='utf-8-sig')"
   ]
  },
  {
   "cell_type": "code",
   "execution_count": 4,
   "metadata": {},
   "outputs": [
    {
     "name": "stderr",
     "output_type": "stream",
     "text": [
      "C:\\Users\\User\\Anaconda3\\lib\\site-packages\\IPython\\core\\interactiveshell.py:2785: DtypeWarning: Columns (6) have mixed types. Specify dtype option on import or set low_memory=False.\n",
      "  interactivity=interactivity, compiler=compiler, result=result)\n"
     ]
    }
   ],
   "source": [
    "# Read the combined csv file\n",
    "df = pd.read_csv(\"combined_csv.csv\")"
   ]
  },
  {
   "cell_type": "code",
   "execution_count": 5,
   "metadata": {},
   "outputs": [
    {
     "data": {
      "text/html": [
       "<div>\n",
       "<style scoped>\n",
       "    .dataframe tbody tr th:only-of-type {\n",
       "        vertical-align: middle;\n",
       "    }\n",
       "\n",
       "    .dataframe tbody tr th {\n",
       "        vertical-align: top;\n",
       "    }\n",
       "\n",
       "    .dataframe thead th {\n",
       "        text-align: right;\n",
       "    }\n",
       "</style>\n",
       "<table border=\"1\" class=\"dataframe\">\n",
       "  <thead>\n",
       "    <tr style=\"text-align: right;\">\n",
       "      <th></th>\n",
       "      <th>block</th>\n",
       "      <th>flat_model</th>\n",
       "      <th>flat_type</th>\n",
       "      <th>floor_area_sqm</th>\n",
       "      <th>lease_commence_date</th>\n",
       "      <th>month</th>\n",
       "      <th>remaining_lease</th>\n",
       "      <th>resale_price</th>\n",
       "      <th>storey_range</th>\n",
       "      <th>street_name</th>\n",
       "      <th>town</th>\n",
       "    </tr>\n",
       "  </thead>\n",
       "  <tbody>\n",
       "    <tr>\n",
       "      <th>0</th>\n",
       "      <td>309</td>\n",
       "      <td>IMPROVED</td>\n",
       "      <td>1 ROOM</td>\n",
       "      <td>31.0</td>\n",
       "      <td>1977</td>\n",
       "      <td>1990-01</td>\n",
       "      <td>NaN</td>\n",
       "      <td>9000.0</td>\n",
       "      <td>10 TO 12</td>\n",
       "      <td>ANG MO KIO AVE 1</td>\n",
       "      <td>ANG MO KIO</td>\n",
       "    </tr>\n",
       "    <tr>\n",
       "      <th>1</th>\n",
       "      <td>309</td>\n",
       "      <td>IMPROVED</td>\n",
       "      <td>1 ROOM</td>\n",
       "      <td>31.0</td>\n",
       "      <td>1977</td>\n",
       "      <td>1990-01</td>\n",
       "      <td>NaN</td>\n",
       "      <td>6000.0</td>\n",
       "      <td>04 TO 06</td>\n",
       "      <td>ANG MO KIO AVE 1</td>\n",
       "      <td>ANG MO KIO</td>\n",
       "    </tr>\n",
       "    <tr>\n",
       "      <th>2</th>\n",
       "      <td>309</td>\n",
       "      <td>IMPROVED</td>\n",
       "      <td>1 ROOM</td>\n",
       "      <td>31.0</td>\n",
       "      <td>1977</td>\n",
       "      <td>1990-01</td>\n",
       "      <td>NaN</td>\n",
       "      <td>8000.0</td>\n",
       "      <td>10 TO 12</td>\n",
       "      <td>ANG MO KIO AVE 1</td>\n",
       "      <td>ANG MO KIO</td>\n",
       "    </tr>\n",
       "    <tr>\n",
       "      <th>3</th>\n",
       "      <td>309</td>\n",
       "      <td>IMPROVED</td>\n",
       "      <td>1 ROOM</td>\n",
       "      <td>31.0</td>\n",
       "      <td>1977</td>\n",
       "      <td>1990-01</td>\n",
       "      <td>NaN</td>\n",
       "      <td>6000.0</td>\n",
       "      <td>07 TO 09</td>\n",
       "      <td>ANG MO KIO AVE 1</td>\n",
       "      <td>ANG MO KIO</td>\n",
       "    </tr>\n",
       "    <tr>\n",
       "      <th>4</th>\n",
       "      <td>216</td>\n",
       "      <td>NEW GENERATION</td>\n",
       "      <td>3 ROOM</td>\n",
       "      <td>73.0</td>\n",
       "      <td>1976</td>\n",
       "      <td>1990-01</td>\n",
       "      <td>NaN</td>\n",
       "      <td>47200.0</td>\n",
       "      <td>04 TO 06</td>\n",
       "      <td>ANG MO KIO AVE 1</td>\n",
       "      <td>ANG MO KIO</td>\n",
       "    </tr>\n",
       "  </tbody>\n",
       "</table>\n",
       "</div>"
      ],
      "text/plain": [
       "  block      flat_model flat_type  floor_area_sqm  lease_commence_date  \\\n",
       "0   309        IMPROVED    1 ROOM            31.0                 1977   \n",
       "1   309        IMPROVED    1 ROOM            31.0                 1977   \n",
       "2   309        IMPROVED    1 ROOM            31.0                 1977   \n",
       "3   309        IMPROVED    1 ROOM            31.0                 1977   \n",
       "4   216  NEW GENERATION    3 ROOM            73.0                 1976   \n",
       "\n",
       "     month remaining_lease  resale_price storey_range       street_name  \\\n",
       "0  1990-01             NaN        9000.0     10 TO 12  ANG MO KIO AVE 1   \n",
       "1  1990-01             NaN        6000.0     04 TO 06  ANG MO KIO AVE 1   \n",
       "2  1990-01             NaN        8000.0     10 TO 12  ANG MO KIO AVE 1   \n",
       "3  1990-01             NaN        6000.0     07 TO 09  ANG MO KIO AVE 1   \n",
       "4  1990-01             NaN       47200.0     04 TO 06  ANG MO KIO AVE 1   \n",
       "\n",
       "         town  \n",
       "0  ANG MO KIO  \n",
       "1  ANG MO KIO  \n",
       "2  ANG MO KIO  \n",
       "3  ANG MO KIO  \n",
       "4  ANG MO KIO  "
      ]
     },
     "execution_count": 5,
     "metadata": {},
     "output_type": "execute_result"
    }
   ],
   "source": [
    "# Get the first 5 observations\n",
    "df.head()"
   ]
  },
  {
   "cell_type": "code",
   "execution_count": 6,
   "metadata": {},
   "outputs": [
    {
     "data": {
      "text/plain": [
       "800631"
      ]
     },
     "execution_count": 6,
     "metadata": {},
     "output_type": "execute_result"
    }
   ],
   "source": [
    "# Get the number of observations in the data frame\n",
    "len(df)"
   ]
  },
  {
   "cell_type": "code",
   "execution_count": 7,
   "metadata": {},
   "outputs": [
    {
     "data": {
      "text/plain": [
       "block                       0\n",
       "flat_model                  0\n",
       "flat_type                   0\n",
       "floor_area_sqm              0\n",
       "lease_commence_date         0\n",
       "month                       0\n",
       "remaining_lease        709054\n",
       "resale_price                0\n",
       "storey_range                0\n",
       "street_name                 0\n",
       "town                        0\n",
       "dtype: int64"
      ]
     },
     "execution_count": 7,
     "metadata": {},
     "output_type": "execute_result"
    }
   ],
   "source": [
    "# Observe the number of NA values in each column\n",
    "df.isna().sum()"
   ]
  },
  {
   "cell_type": "code",
   "execution_count": 8,
   "metadata": {},
   "outputs": [
    {
     "data": {
      "text/plain": [
       "91577"
      ]
     },
     "execution_count": 8,
     "metadata": {},
     "output_type": "execute_result"
    }
   ],
   "source": [
    "# Check how many observations are without NA values\n",
    "len(df.dropna())"
   ]
  },
  {
   "cell_type": "code",
   "execution_count": 9,
   "metadata": {},
   "outputs": [
    {
     "data": {
      "text/html": [
       "<div>\n",
       "<style scoped>\n",
       "    .dataframe tbody tr th:only-of-type {\n",
       "        vertical-align: middle;\n",
       "    }\n",
       "\n",
       "    .dataframe tbody tr th {\n",
       "        vertical-align: top;\n",
       "    }\n",
       "\n",
       "    .dataframe thead th {\n",
       "        text-align: right;\n",
       "    }\n",
       "</style>\n",
       "<table border=\"1\" class=\"dataframe\">\n",
       "  <thead>\n",
       "    <tr style=\"text-align: right;\">\n",
       "      <th></th>\n",
       "      <th>block</th>\n",
       "      <th>flat_model</th>\n",
       "      <th>flat_type</th>\n",
       "      <th>floor_area_sqm</th>\n",
       "      <th>lease_commence_date</th>\n",
       "      <th>month</th>\n",
       "      <th>remaining_lease</th>\n",
       "      <th>resale_price</th>\n",
       "      <th>storey_range</th>\n",
       "      <th>street_name</th>\n",
       "      <th>town</th>\n",
       "    </tr>\n",
       "  </thead>\n",
       "  <tbody>\n",
       "    <tr>\n",
       "      <th>656851</th>\n",
       "      <td>174</td>\n",
       "      <td>Improved</td>\n",
       "      <td>3 ROOM</td>\n",
       "      <td>60.0</td>\n",
       "      <td>1986</td>\n",
       "      <td>2015-01</td>\n",
       "      <td>70</td>\n",
       "      <td>255000.0</td>\n",
       "      <td>07 TO 09</td>\n",
       "      <td>ANG MO KIO AVE 4</td>\n",
       "      <td>ANG MO KIO</td>\n",
       "    </tr>\n",
       "    <tr>\n",
       "      <th>656852</th>\n",
       "      <td>541</td>\n",
       "      <td>New Generation</td>\n",
       "      <td>3 ROOM</td>\n",
       "      <td>68.0</td>\n",
       "      <td>1981</td>\n",
       "      <td>2015-01</td>\n",
       "      <td>65</td>\n",
       "      <td>275000.0</td>\n",
       "      <td>01 TO 03</td>\n",
       "      <td>ANG MO KIO AVE 10</td>\n",
       "      <td>ANG MO KIO</td>\n",
       "    </tr>\n",
       "    <tr>\n",
       "      <th>656853</th>\n",
       "      <td>163</td>\n",
       "      <td>New Generation</td>\n",
       "      <td>3 ROOM</td>\n",
       "      <td>69.0</td>\n",
       "      <td>1980</td>\n",
       "      <td>2015-01</td>\n",
       "      <td>64</td>\n",
       "      <td>285000.0</td>\n",
       "      <td>01 TO 03</td>\n",
       "      <td>ANG MO KIO AVE 4</td>\n",
       "      <td>ANG MO KIO</td>\n",
       "    </tr>\n",
       "    <tr>\n",
       "      <th>656854</th>\n",
       "      <td>446</td>\n",
       "      <td>New Generation</td>\n",
       "      <td>3 ROOM</td>\n",
       "      <td>68.0</td>\n",
       "      <td>1979</td>\n",
       "      <td>2015-01</td>\n",
       "      <td>63</td>\n",
       "      <td>290000.0</td>\n",
       "      <td>01 TO 03</td>\n",
       "      <td>ANG MO KIO AVE 10</td>\n",
       "      <td>ANG MO KIO</td>\n",
       "    </tr>\n",
       "    <tr>\n",
       "      <th>656855</th>\n",
       "      <td>557</td>\n",
       "      <td>New Generation</td>\n",
       "      <td>3 ROOM</td>\n",
       "      <td>68.0</td>\n",
       "      <td>1980</td>\n",
       "      <td>2015-01</td>\n",
       "      <td>64</td>\n",
       "      <td>290000.0</td>\n",
       "      <td>07 TO 09</td>\n",
       "      <td>ANG MO KIO AVE 10</td>\n",
       "      <td>ANG MO KIO</td>\n",
       "    </tr>\n",
       "  </tbody>\n",
       "</table>\n",
       "</div>"
      ],
      "text/plain": [
       "       block      flat_model flat_type  floor_area_sqm  lease_commence_date  \\\n",
       "656851   174        Improved    3 ROOM            60.0                 1986   \n",
       "656852   541  New Generation    3 ROOM            68.0                 1981   \n",
       "656853   163  New Generation    3 ROOM            69.0                 1980   \n",
       "656854   446  New Generation    3 ROOM            68.0                 1979   \n",
       "656855   557  New Generation    3 ROOM            68.0                 1980   \n",
       "\n",
       "          month remaining_lease  resale_price storey_range        street_name  \\\n",
       "656851  2015-01              70      255000.0     07 TO 09   ANG MO KIO AVE 4   \n",
       "656852  2015-01              65      275000.0     01 TO 03  ANG MO KIO AVE 10   \n",
       "656853  2015-01              64      285000.0     01 TO 03   ANG MO KIO AVE 4   \n",
       "656854  2015-01              63      290000.0     01 TO 03  ANG MO KIO AVE 10   \n",
       "656855  2015-01              64      290000.0     07 TO 09  ANG MO KIO AVE 10   \n",
       "\n",
       "              town  \n",
       "656851  ANG MO KIO  \n",
       "656852  ANG MO KIO  \n",
       "656853  ANG MO KIO  \n",
       "656854  ANG MO KIO  \n",
       "656855  ANG MO KIO  "
      ]
     },
     "execution_count": 9,
     "metadata": {},
     "output_type": "execute_result"
    }
   ],
   "source": [
    "# Get first 5 observations without NA values\n",
    "df.dropna().head()"
   ]
  },
  {
   "cell_type": "markdown",
   "metadata": {},
   "source": [
    "Things to take note:\n",
    "    1. Variable remaining_lease has NA values\n",
    "    2. There are 91577 observations with complete cases i.e. rows without NA values"
   ]
  },
  {
   "cell_type": "code",
   "execution_count": 10,
   "metadata": {},
   "outputs": [
    {
     "name": "stdout",
     "output_type": "stream",
     "text": [
      "<class 'pandas.core.frame.DataFrame'>\n",
      "RangeIndex: 800631 entries, 0 to 800630\n",
      "Data columns (total 11 columns):\n",
      "block                  800631 non-null object\n",
      "flat_model             800631 non-null object\n",
      "flat_type              800631 non-null object\n",
      "floor_area_sqm         800631 non-null float64\n",
      "lease_commence_date    800631 non-null int64\n",
      "month                  800631 non-null object\n",
      "remaining_lease        91577 non-null object\n",
      "resale_price           800631 non-null float64\n",
      "storey_range           800631 non-null object\n",
      "street_name            800631 non-null object\n",
      "town                   800631 non-null object\n",
      "dtypes: float64(2), int64(1), object(8)\n",
      "memory usage: 67.2+ MB\n"
     ]
    }
   ],
   "source": [
    "# Observe the dtypes of each column\n",
    "df.info()"
   ]
  },
  {
   "cell_type": "markdown",
   "metadata": {},
   "source": [
    "We have 3 data types imported:\n",
    "    1. object (for string characters) - 8 variables\n",
    "    2. float64 (for numerical float values) - 2 variables\n",
    "    3. int64 (for numerical integer values) - 1 variable"
   ]
  },
  {
   "cell_type": "code",
   "execution_count": 11,
   "metadata": {},
   "outputs": [
    {
     "data": {
      "text/html": [
       "<div>\n",
       "<style scoped>\n",
       "    .dataframe tbody tr th:only-of-type {\n",
       "        vertical-align: middle;\n",
       "    }\n",
       "\n",
       "    .dataframe tbody tr th {\n",
       "        vertical-align: top;\n",
       "    }\n",
       "\n",
       "    .dataframe thead th {\n",
       "        text-align: right;\n",
       "    }\n",
       "</style>\n",
       "<table border=\"1\" class=\"dataframe\">\n",
       "  <thead>\n",
       "    <tr style=\"text-align: right;\">\n",
       "      <th></th>\n",
       "      <th>floor_area_sqm</th>\n",
       "      <th>lease_commence_date</th>\n",
       "      <th>resale_price</th>\n",
       "    </tr>\n",
       "  </thead>\n",
       "  <tbody>\n",
       "    <tr>\n",
       "      <th>count</th>\n",
       "      <td>800631.000000</td>\n",
       "      <td>800631.000000</td>\n",
       "      <td>8.006310e+05</td>\n",
       "    </tr>\n",
       "    <tr>\n",
       "      <th>mean</th>\n",
       "      <td>95.511540</td>\n",
       "      <td>1986.870380</td>\n",
       "      <td>2.888747e+05</td>\n",
       "    </tr>\n",
       "    <tr>\n",
       "      <th>std</th>\n",
       "      <td>26.108643</td>\n",
       "      <td>9.138722</td>\n",
       "      <td>1.463001e+05</td>\n",
       "    </tr>\n",
       "    <tr>\n",
       "      <th>min</th>\n",
       "      <td>28.000000</td>\n",
       "      <td>1966.000000</td>\n",
       "      <td>5.000000e+03</td>\n",
       "    </tr>\n",
       "    <tr>\n",
       "      <th>25%</th>\n",
       "      <td>73.000000</td>\n",
       "      <td>1980.000000</td>\n",
       "      <td>1.785000e+05</td>\n",
       "    </tr>\n",
       "    <tr>\n",
       "      <th>50%</th>\n",
       "      <td>93.000000</td>\n",
       "      <td>1985.000000</td>\n",
       "      <td>2.700000e+05</td>\n",
       "    </tr>\n",
       "    <tr>\n",
       "      <th>75%</th>\n",
       "      <td>114.000000</td>\n",
       "      <td>1993.000000</td>\n",
       "      <td>3.780000e+05</td>\n",
       "    </tr>\n",
       "    <tr>\n",
       "      <th>max</th>\n",
       "      <td>307.000000</td>\n",
       "      <td>2016.000000</td>\n",
       "      <td>1.205000e+06</td>\n",
       "    </tr>\n",
       "  </tbody>\n",
       "</table>\n",
       "</div>"
      ],
      "text/plain": [
       "       floor_area_sqm  lease_commence_date  resale_price\n",
       "count   800631.000000        800631.000000  8.006310e+05\n",
       "mean        95.511540          1986.870380  2.888747e+05\n",
       "std         26.108643             9.138722  1.463001e+05\n",
       "min         28.000000          1966.000000  5.000000e+03\n",
       "25%         73.000000          1980.000000  1.785000e+05\n",
       "50%         93.000000          1985.000000  2.700000e+05\n",
       "75%        114.000000          1993.000000  3.780000e+05\n",
       "max        307.000000          2016.000000  1.205000e+06"
      ]
     },
     "execution_count": 11,
     "metadata": {},
     "output_type": "execute_result"
    }
   ],
   "source": [
    "# Observe statistics for numerical variables\n",
    "df.describe()"
   ]
  },
  {
   "cell_type": "markdown",
   "metadata": {},
   "source": [
    "Things to take note:\n",
    "    1. Variable lease_commence_date is wrongly imported as a 'int' dtype"
   ]
  },
  {
   "cell_type": "code",
   "execution_count": 12,
   "metadata": {},
   "outputs": [
    {
     "data": {
      "text/plain": [
       "4 ROOM              298542\n",
       "3 ROOM              266353\n",
       "5 ROOM              163989\n",
       "EXECUTIVE            60652\n",
       "2 ROOM                9337\n",
       "1 ROOM                1264\n",
       "MULTI GENERATION       279\n",
       "MULTI-GENERATION       215\n",
       "Name: flat_type, dtype: int64"
      ]
     },
     "execution_count": 12,
     "metadata": {},
     "output_type": "execute_result"
    }
   ],
   "source": [
    "# Observe the count of each category for the `flat_type` category\n",
    "df['flat_type'].value_counts()"
   ]
  },
  {
   "cell_type": "code",
   "execution_count": 13,
   "metadata": {},
   "outputs": [
    {
     "name": "stdout",
     "output_type": "stream",
     "text": [
      "4 ROOM              298542\n",
      "3 ROOM              266353\n",
      "5 ROOM              163989\n",
      "EXECUTIVE            60652\n",
      "2 ROOM                9337\n",
      "1 ROOM                1264\n",
      "MULTI-GENERATION       494\n",
      "Name: flat_type, dtype: int64\n"
     ]
    }
   ],
   "source": [
    "# Rename mismatched categories\n",
    "df['flat_type'] = df['flat_type'].replace({'MULTI-GENERATION':'MULTI-GENERATION',\n",
    "                                           'MULTI GENERATION':'MULTI-GENERATION'})\n",
    "print(df['flat_type'].value_counts())"
   ]
  },
  {
   "cell_type": "code",
   "execution_count": 14,
   "metadata": {},
   "outputs": [
    {
     "data": {
      "text/plain": [
       "Model A                   149056\n",
       "Improved                  137328\n",
       "New Generation             95348\n",
       "NEW GENERATION             78898\n",
       "IMPROVED                   73593\n",
       "MODEL A                    70381\n",
       "Premium Apartment          32098\n",
       "Simplified                 29679\n",
       "SIMPLIFIED                 23258\n",
       "Standard                   21747\n",
       "Apartment                  21104\n",
       "STANDARD                   17375\n",
       "Maisonette                 13940\n",
       "MAISONETTE                 12215\n",
       "APARTMENT                   9901\n",
       "Model A2                    8848\n",
       "DBSS                        1056\n",
       "Adjoined flat               1034\n",
       "MODEL A-MAISONETTE           982\n",
       "Model A-Maisonette           860\n",
       "Terrace                      383\n",
       "MULTI GENERATION             279\n",
       "TERRACE                      247\n",
       "Type S1                      239\n",
       "Multi Generation             215\n",
       "Premium Apartment.           211\n",
       "Type S2                      113\n",
       "Premium Maisonette            75\n",
       "Improved-Maisonette           69\n",
       "IMPROVED-MAISONETTE           44\n",
       "2-ROOM                        21\n",
       "2-room                        17\n",
       "Premium Apartment Loft        11\n",
       "PREMIUM APARTMENT              6\n",
       "Name: flat_model, dtype: int64"
      ]
     },
     "execution_count": 14,
     "metadata": {},
     "output_type": "execute_result"
    }
   ],
   "source": [
    "df['flat_model'].value_counts()"
   ]
  },
  {
   "cell_type": "code",
   "execution_count": 15,
   "metadata": {},
   "outputs": [
    {
     "name": "stdout",
     "output_type": "stream",
     "text": [
      "MODEL A                   219437\n",
      "IMPROVED                  210921\n",
      "NEW GENERATION            174246\n",
      "SIMPLIFIED                 52937\n",
      "STANDARD                   39122\n",
      "PREMIUM APARTMENT          32315\n",
      "APARTMENT                  31005\n",
      "MAISONETTE                 26155\n",
      "Model A2                    8848\n",
      "MODEL A-MAISONETTE          1842\n",
      "DBSS                        1056\n",
      "Adjoined flat               1034\n",
      "TERRACE                      630\n",
      "MULTI GENERATION             494\n",
      "Type S1                      239\n",
      "IMPROVED-MAISONETTE          113\n",
      "Type S2                      113\n",
      "Premium Maisonette            75\n",
      "2-ROOM                        38\n",
      "Premium Apartment Loft        11\n",
      "Name: flat_model, dtype: int64\n"
     ]
    }
   ],
   "source": [
    "# Rename mismatched categories\n",
    "df['flat_model'] = df['flat_model'].replace({'Model A':'MODEL A',\n",
    "                                           'Improved':'IMPROVED', \n",
    "                                             'New Generation':'NEW GENERATION', \n",
    "                                             'Premium Apartment':'PREMIUM APARTMENT', \n",
    "                                             'Premium Apartment.':'PREMIUM APARTMENT',\n",
    "                                            'Simplified':'SIMPLIFIED', \n",
    "                                             'Standard':'STANDARD', \n",
    "                                             'Apartment':'APARTMENT',\n",
    "                                            'Maisonette':'MAISONETTE', \n",
    "                                             'Model A-Maisonette':'MODEL A-MAISONETTE',\n",
    "                                            'Terrace':'TERRACE', \n",
    "                                             'Multi Generation':'MULTI GENERATION', \n",
    "                                             'Improved-Maisonette':'IMPROVED-MAISONETTE', \n",
    "                                             '2-room':'2-ROOM'})\n",
    "print(df['flat_model'].value_counts())"
   ]
  },
  {
   "cell_type": "code",
   "execution_count": 16,
   "metadata": {},
   "outputs": [
    {
     "name": "stdout",
     "output_type": "stream",
     "text": [
      "['block', 'flat_model', 'flat_type', 'month', 'remaining_lease', 'storey_range', 'street_name', 'town']\n"
     ]
    }
   ],
   "source": [
    "# Make a list containing the names of variables (columns) with 'object' dtype\n",
    "\n",
    "obj_colnames = list(df.loc[:,df.dtypes == object])\n",
    "print (obj_colnames)"
   ]
  },
  {
   "cell_type": "code",
   "execution_count": 17,
   "metadata": {},
   "outputs": [
    {
     "name": "stdout",
     "output_type": "stream",
     "text": [
      "Categories for column \"block\":\n",
      "2       4233\n",
      "1       3701\n",
      "110     3118\n",
      "101     3089\n",
      "4       3032\n",
      "113     3019\n",
      "8       2980\n",
      "107     2940\n",
      "3       2907\n",
      "114     2894\n",
      "108     2812\n",
      "6       2748\n",
      "109     2716\n",
      "102     2707\n",
      "5       2697\n",
      "105     2640\n",
      "112     2621\n",
      "7       2601\n",
      "111     2593\n",
      "116     2569\n",
      "115     2562\n",
      "103     2543\n",
      "106     2389\n",
      "120     2362\n",
      "124     2350\n",
      "34      2329\n",
      "13      2270\n",
      "210     2242\n",
      "22      2221\n",
      "211     2213\n",
      "        ... \n",
      "470A       3\n",
      "432C       3\n",
      "428A       3\n",
      "226E       2\n",
      "453D       2\n",
      "868C       2\n",
      "432D       2\n",
      "523B       2\n",
      "780F       2\n",
      "10A        2\n",
      "334A       2\n",
      "426C       2\n",
      "279C       2\n",
      "547D       2\n",
      "327A       2\n",
      "336B       2\n",
      "331C       1\n",
      "527A       1\n",
      "279A       1\n",
      "526A       1\n",
      "329A       1\n",
      "519C       1\n",
      "279B       1\n",
      "431A       1\n",
      "524A       1\n",
      "342B       1\n",
      "327B       1\n",
      "525C       1\n",
      "453C       1\n",
      "440A       1\n",
      "Name: block, Length: 2342, dtype: int64\n",
      "\n",
      "\n",
      "Categories for column \"flat_model\":\n",
      "MODEL A                   219437\n",
      "IMPROVED                  210921\n",
      "NEW GENERATION            174246\n",
      "SIMPLIFIED                 52937\n",
      "STANDARD                   39122\n",
      "PREMIUM APARTMENT          32315\n",
      "APARTMENT                  31005\n",
      "MAISONETTE                 26155\n",
      "Model A2                    8848\n",
      "MODEL A-MAISONETTE          1842\n",
      "DBSS                        1056\n",
      "Adjoined flat               1034\n",
      "TERRACE                      630\n",
      "MULTI GENERATION             494\n",
      "Type S1                      239\n",
      "IMPROVED-MAISONETTE          113\n",
      "Type S2                      113\n",
      "Premium Maisonette            75\n",
      "2-ROOM                        38\n",
      "Premium Apartment Loft        11\n",
      "Name: flat_model, dtype: int64\n",
      "\n",
      "\n",
      "Categories for column \"flat_type\":\n",
      "4 ROOM              298542\n",
      "3 ROOM              266353\n",
      "5 ROOM              163989\n",
      "EXECUTIVE            60652\n",
      "2 ROOM                9337\n",
      "1 ROOM                1264\n",
      "MULTI-GENERATION       494\n",
      "Name: flat_type, dtype: int64\n",
      "\n",
      "\n",
      "Categories for column \"month\":\n",
      "1999-03    6468\n",
      "1999-06    5862\n",
      "1998-10    5709\n",
      "1999-04    5698\n",
      "1999-05    5671\n",
      "1999-07    5493\n",
      "1999-08    5209\n",
      "1998-11    4993\n",
      "1998-12    4988\n",
      "1999-02    4834\n",
      "1999-01    4802\n",
      "1998-09    4760\n",
      "1998-08    4444\n",
      "1998-07    4397\n",
      "1998-06    4053\n",
      "1998-04    3905\n",
      "1999-09    3796\n",
      "1999-10    3783\n",
      "1998-05    3729\n",
      "1998-03    3695\n",
      "2010-07    3679\n",
      "2010-06    3517\n",
      "1996-10    3501\n",
      "1998-02    3490\n",
      "2001-10    3490\n",
      "2009-10    3432\n",
      "2001-07    3398\n",
      "2002-01    3385\n",
      "1999-11    3358\n",
      "2001-11    3349\n",
      "           ... \n",
      "1993-01    1142\n",
      "1992-05    1140\n",
      "1993-02    1138\n",
      "1992-03    1113\n",
      "1993-03    1113\n",
      "2014-01    1098\n",
      "1990-11    1090\n",
      "2017-02    1080\n",
      "1990-08    1078\n",
      "2018-01    1072\n",
      "1992-04    1067\n",
      "1992-06    1059\n",
      "1993-04    1055\n",
      "1991-12    1050\n",
      "1990-04    1047\n",
      "1990-12    1020\n",
      "2013-12    1008\n",
      "2014-02     959\n",
      "1992-02     954\n",
      "1991-05     945\n",
      "1990-02     931\n",
      "1991-04     920\n",
      "2013-02     886\n",
      "1990-09     865\n",
      "1991-03     854\n",
      "1991-06     836\n",
      "1990-06     824\n",
      "1991-02     816\n",
      "1990-10     810\n",
      "1990-05     778\n",
      "Name: month, Length: 355, dtype: int64\n",
      "\n",
      "\n",
      "Categories for column \"remaining_lease\":\n",
      "68                    2328\n",
      "67                    1857\n",
      "69                    1635\n",
      "71                    1547\n",
      "84                    1423\n",
      "70                    1337\n",
      "81                    1335\n",
      "80                    1317\n",
      "85                    1314\n",
      "83                    1312\n",
      "72                    1190\n",
      "86                    1168\n",
      "61                    1166\n",
      "82                    1140\n",
      "62                    1068\n",
      "63                    1042\n",
      "79                    1029\n",
      "95                    1026\n",
      "60                     876\n",
      "87                     866\n",
      "66                     842\n",
      "76                     820\n",
      "64                     726\n",
      "75                     622\n",
      "78                     615\n",
      "59                     577\n",
      "77                     554\n",
      "58                     532\n",
      "65                     527\n",
      "94                     523\n",
      "                      ... \n",
      "47 years 11 months      10\n",
      "47 years 05 months      10\n",
      "48 years 04 months       9\n",
      "48 years 02 months       9\n",
      "88 years                 9\n",
      "47 years 03 months       9\n",
      "96 years 02 months       8\n",
      "46 years 08 months       8\n",
      "47 years 01 month        8\n",
      "47 years 07 months       8\n",
      "49 years 04 months       7\n",
      "46 years 07 months       6\n",
      "46 years 10 months       5\n",
      "47 years 06 months       5\n",
      "46 years 06 months       5\n",
      "47 years 10 months       5\n",
      "96 years 01 month        5\n",
      "96 years 05 months       4\n",
      "96 years 06 months       4\n",
      "97                       3\n",
      "47 years                 3\n",
      "96 years 04 months       3\n",
      "96 years 08 months       3\n",
      "96 years 03 months       2\n",
      "96 years 07 months       2\n",
      "66 years 0 months        1\n",
      "93 years 0 months        1\n",
      "48                       1\n",
      "95 years 0 months        1\n",
      "46 years 03 months       1\n",
      "Name: remaining_lease, Length: 657, dtype: int64\n",
      "\n",
      "\n",
      "Categories for column \"storey_range\":\n",
      "04 TO 06    203612\n",
      "07 TO 09    183767\n",
      "01 TO 03    164158\n",
      "10 TO 12    155519\n",
      "13 TO 15     49713\n",
      "16 TO 18     18279\n",
      "19 TO 21      8947\n",
      "22 TO 24      5704\n",
      "01 TO 05      2700\n",
      "06 TO 10      2474\n",
      "25 TO 27      2339\n",
      "11 TO 15      1259\n",
      "28 TO 30       943\n",
      "16 TO 20       265\n",
      "34 TO 36       233\n",
      "31 TO 33       218\n",
      "37 TO 39       216\n",
      "40 TO 42       107\n",
      "21 TO 25        92\n",
      "26 TO 30        39\n",
      "46 TO 48        17\n",
      "43 TO 45        13\n",
      "49 TO 51         8\n",
      "36 TO 40         7\n",
      "31 TO 35         2\n",
      "Name: storey_range, dtype: int64\n",
      "\n",
      "\n",
      "Categories for column \"street_name\":\n",
      "YISHUN RING RD            15786\n",
      "BEDOK RESERVOIR RD        13426\n",
      "ANG MO KIO AVE 10         12661\n",
      "ANG MO KIO AVE 3          11129\n",
      "HOUGANG AVE 8              8476\n",
      "TAMPINES ST 21             7598\n",
      "BEDOK NTH ST 3             6895\n",
      "BEDOK NTH RD               6798\n",
      "ANG MO KIO AVE 4           6654\n",
      "MARSILING DR               6122\n",
      "JURONG WEST ST 42          5991\n",
      "ANG MO KIO AVE 5           5883\n",
      "SIMEI ST 1                 5067\n",
      "LOR 1 TOA PAYOH            4815\n",
      "JURONG EAST ST 21          4798\n",
      "BT BATOK WEST AVE 6        4716\n",
      "TAMPINES ST 22             4594\n",
      "CIRCUIT RD                 4590\n",
      "ANG MO KIO AVE 1           4570\n",
      "YISHUN ST 11               4537\n",
      "YISHUN ST 21               4512\n",
      "JURONG WEST ST 81          4389\n",
      "YISHUN ST 61               4346\n",
      "JURONG WEST ST 52          4303\n",
      "CLEMENTI AVE 4             4292\n",
      "BISHAN ST 13               4291\n",
      "UBI AVE 1                  4266\n",
      "YISHUN ST 81               4212\n",
      "WOODLANDS ST 13            4208\n",
      "TECK WHYE LANE             4121\n",
      "                          ...  \n",
      "KIM CHENG ST                 69\n",
      "PUNGGOL WAY                  65\n",
      "LIM CHU KANG RD              64\n",
      "SENGKANG EAST AVE            64\n",
      "ALEXANDRA RD                 63\n",
      "BUANGKOK STH FARMWAY 1       62\n",
      "JLN BERSEH                   62\n",
      "MONTREAL LINK                58\n",
      "KRETA AYER RD                56\n",
      "KG BAHRU HILL                50\n",
      "HU CHING RD                  48\n",
      "YISHUN ST 31                 47\n",
      "KIM PONG RD                  38\n",
      "UPP SERANGOON CRES           35\n",
      "CLEMENTI ST 11               34\n",
      "CLEMENTI ST 12               34\n",
      "BT MERAH LANE 1              31\n",
      "SUMANG LINK                  28\n",
      "SEMBAWANG RD                 24\n",
      "YISHUN AVE 1                 23\n",
      "JLN MEMBINA BARAT            20\n",
      "SENG POH RD                  17\n",
      "GEYLANG EAST AVE 2           13\n",
      "SEMBAWANG WAY                11\n",
      "OUTRAM HILL                   9\n",
      "TECK WHYE CRES                8\n",
      "ANCHORVALE CRES               3\n",
      "MARINE PARADE CTRL            2\n",
      "ANCHORVALE ST                 2\n",
      "TAMPINES CTRL 8               1\n",
      "Name: street_name, Length: 558, dtype: int64\n",
      "\n",
      "\n",
      "Categories for column \"town\":\n",
      "TAMPINES           71274\n",
      "YISHUN             61112\n",
      "BEDOK              59979\n",
      "JURONG WEST        58953\n",
      "WOODLANDS          56920\n",
      "ANG MO KIO         47124\n",
      "HOUGANG            44179\n",
      "BUKIT BATOK        39626\n",
      "CHOA CHU KANG      32314\n",
      "BUKIT MERAH        29617\n",
      "PASIR RIS          29418\n",
      "TOA PAYOH          27737\n",
      "QUEENSTOWN         25264\n",
      "CLEMENTI           25186\n",
      "GEYLANG            25062\n",
      "KALLANG/WHAMPOA    23411\n",
      "BUKIT PANJANG      22981\n",
      "JURONG EAST        22296\n",
      "SENGKANG           21615\n",
      "SERANGOON          20661\n",
      "BISHAN             19078\n",
      "PUNGGOL            10733\n",
      "SEMBAWANG          10392\n",
      "MARINE PARADE       7255\n",
      "CENTRAL AREA        6155\n",
      "BUKIT TIMAH         2225\n",
      "LIM CHU KANG          64\n",
      "Name: town, dtype: int64\n",
      "\n",
      "\n"
     ]
    }
   ],
   "source": [
    "# Examine the categories for each of the supposed categorical variables\n",
    "for i in obj_colnames:\n",
    "    print('Categories for column \"' + i + '\":')\n",
    "    print(df[i].value_counts())\n",
    "    print('\\n')"
   ]
  },
  {
   "cell_type": "code",
   "execution_count": 18,
   "metadata": {},
   "outputs": [],
   "source": [
    "# Convert variable `lease_commence_date` to object type\n",
    "df['lease_commence_date'] = df['lease_commence_date'].astype('object')"
   ]
  },
  {
   "cell_type": "code",
   "execution_count": 19,
   "metadata": {},
   "outputs": [],
   "source": [
    "# Import 'seaborn' package for visualisation\n",
    "import matplotlib.pyplot as plt\n",
    "import seaborn as sns\n",
    "\n",
    "sns.set()"
   ]
  },
  {
   "cell_type": "code",
   "execution_count": 20,
   "metadata": {},
   "outputs": [
    {
     "name": "stderr",
     "output_type": "stream",
     "text": [
      "C:\\Users\\User\\Anaconda3\\lib\\site-packages\\scipy\\stats\\stats.py:1713: FutureWarning: Using a non-tuple sequence for multidimensional indexing is deprecated; use `arr[tuple(seq)]` instead of `arr[seq]`. In the future this will be interpreted as an array index, `arr[np.array(seq)]`, which will result either in an error or a different result.\n",
      "  return np.add.reduce(sorted[indexer] * weights, axis=axis) / sumval\n"
     ]
    },
    {
     "data": {
      "image/png": "[encoded data removed]",
      "text/plain": [
       "<Figure size 432x288 with 1 Axes>"
      ]
     },
     "metadata": {},
     "output_type": "display_data"
    }
   ],
   "source": [
    "# Plot a simple histogram with binsize determined automatically\n",
    "sns.distplot(df['floor_area_sqm'],kde = False)\n",
    "# Save plot example\n",
    "plt.savefig('chat1.png')"
   ]
  },
  {
   "cell_type": "code",
   "execution_count": 21,
   "metadata": {},
   "outputs": [
    {
     "data": {
      "text/html": [
       "<div>\n",
       "<style scoped>\n",
       "    .dataframe tbody tr th:only-of-type {\n",
       "        vertical-align: middle;\n",
       "    }\n",
       "\n",
       "    .dataframe tbody tr th {\n",
       "        vertical-align: top;\n",
       "    }\n",
       "\n",
       "    .dataframe thead th {\n",
       "        text-align: right;\n",
       "    }\n",
       "</style>\n",
       "<table border=\"1\" class=\"dataframe\">\n",
       "  <thead>\n",
       "    <tr style=\"text-align: right;\">\n",
       "      <th></th>\n",
       "      <th>floor_area_sqm</th>\n",
       "      <th>resale_price</th>\n",
       "    </tr>\n",
       "  </thead>\n",
       "  <tbody>\n",
       "    <tr>\n",
       "      <th>floor_area_sqm</th>\n",
       "      <td>1.000000</td>\n",
       "      <td>0.633224</td>\n",
       "    </tr>\n",
       "    <tr>\n",
       "      <th>resale_price</th>\n",
       "      <td>0.633224</td>\n",
       "      <td>1.000000</td>\n",
       "    </tr>\n",
       "  </tbody>\n",
       "</table>\n",
       "</div>"
      ],
      "text/plain": [
       "                floor_area_sqm  resale_price\n",
       "floor_area_sqm        1.000000      0.633224\n",
       "resale_price          0.633224      1.000000"
      ]
     },
     "execution_count": 21,
     "metadata": {},
     "output_type": "execute_result"
    }
   ],
   "source": [
    "# Observe the correlation coefficients between the different numerical variables\n",
    "corr = df.corr()\n",
    "corr"
   ]
  },
  {
   "cell_type": "code",
   "execution_count": 22,
   "metadata": {},
   "outputs": [
    {
     "data": {
      "image/png": "[encoded data removed]",
      "text/plain": [
       "<Figure size 842.4x595.44 with 2 Axes>"
      ]
     },
     "metadata": {},
     "output_type": "display_data"
    }
   ],
   "source": [
    "# Set the size of the plot\n",
    "fig, ax = plt.subplots()\n",
    "fig.set_size_inches(11.7, 8.27)\n",
    "# Plot a heatmap for the correlation coefficients\n",
    "sns.heatmap(corr)\n",
    "plt.show()\n"
   ]
  },
  {
   "cell_type": "markdown",
   "metadata": {},
   "source": [
    "Performance by Categories (Barplot)"
   ]
  },
  {
   "cell_type": "code",
   "execution_count": 23,
   "metadata": {},
   "outputs": [
    {
     "name": "stderr",
     "output_type": "stream",
     "text": [
      "C:\\Users\\User\\Anaconda3\\lib\\site-packages\\scipy\\stats\\stats.py:1713: FutureWarning: Using a non-tuple sequence for multidimensional indexing is deprecated; use `arr[tuple(seq)]` instead of `arr[seq]`. In the future this will be interpreted as an array index, `arr[np.array(seq)]`, which will result either in an error or a different result.\n",
      "  return np.add.reduce(sorted[indexer] * weights, axis=axis) / sumval\n"
     ]
    },
    {
     "data": {
      "image/png": "[encoded data removed]",
      "text/plain": [
       "<Figure size 1800x1080 with 1 Axes>"
      ]
     },
     "metadata": {},
     "output_type": "display_data"
    }
   ],
   "source": [
    "fig, ax = plt.subplots()\n",
    "fig.set_size_inches(25, 15)\n",
    "sns.barplot(x = 'storey_range', y = \"resale_price\", data = df)\n",
    "plt.show()"
   ]
  },
  {
   "cell_type": "code",
   "execution_count": 24,
   "metadata": {},
   "outputs": [
    {
     "name": "stderr",
     "output_type": "stream",
     "text": [
      "C:\\Users\\User\\Anaconda3\\lib\\site-packages\\scipy\\stats\\stats.py:1713: FutureWarning: Using a non-tuple sequence for multidimensional indexing is deprecated; use `arr[tuple(seq)]` instead of `arr[seq]`. In the future this will be interpreted as an array index, `arr[np.array(seq)]`, which will result either in an error or a different result.\n",
      "  return np.add.reduce(sorted[indexer] * weights, axis=axis) / sumval\n"
     ]
    },
    {
     "data": {
      "image/png": "[encoded data removed]",
      "text/plain": [
       "<Figure size 842.4x595.44 with 1 Axes>"
      ]
     },
     "metadata": {},
     "output_type": "display_data"
    }
   ],
   "source": [
    "fig, ax = plt.subplots()\n",
    "fig.set_size_inches(11.7, 8.27)\n",
    "ax = sns.barplot(x='flat_type', y='resale_price', data=df, estimator=sum)\n",
    "ax.set_xticklabels(ax.get_xticklabels(), rotation = 45)\n",
    "plt.show()"
   ]
  },
  {
   "cell_type": "code",
   "execution_count": 25,
   "metadata": {},
   "outputs": [
    {
     "data": {
      "image/png": "[encoded data removed]",
      "text/plain": [
       "<Figure size 842.4x595.44 with 1 Axes>"
      ]
     },
     "metadata": {},
     "output_type": "display_data"
    }
   ],
   "source": [
    "# Set the size of the plot\n",
    "fig, ax = plt.subplots()\n",
    "fig.set_size_inches(11.7, 8.27)\n",
    "ax = sns.boxplot(x='flat_type', y='floor_area_sqm', data=df)\n",
    "ax.set_xticklabels(ax.get_xticklabels(), rotation = 45)\n",
    "plt.show()"
   ]
  },
  {
   "cell_type": "code",
   "execution_count": 26,
   "metadata": {},
   "outputs": [
    {
     "name": "stderr",
     "output_type": "stream",
     "text": [
      "C:\\Users\\User\\Anaconda3\\lib\\site-packages\\scipy\\stats\\stats.py:1713: FutureWarning: Using a non-tuple sequence for multidimensional indexing is deprecated; use `arr[tuple(seq)]` instead of `arr[seq]`. In the future this will be interpreted as an array index, `arr[np.array(seq)]`, which will result either in an error or a different result.\n",
      "  return np.add.reduce(sorted[indexer] * weights, axis=axis) / sumval\n"
     ]
    },
    {
     "data": {
      "image/png": "[encoded data removed]",
      "text/plain": [
       "<Figure size 1440x1080 with 1 Axes>"
      ]
     },
     "metadata": {},
     "output_type": "display_data"
    }
   ],
   "source": [
    "fig, ax = plt.subplots()\n",
    "fig.set_size_inches(20, 15)\n",
    "ax = sns.barplot(x = 'lease_commence_date', y = 'resale_price', \n",
    "                 data = df, estimator = sum, color='#8FAEE1')\n",
    "ax.set_xticklabels(ax.get_xticklabels(), rotation = 45)\n",
    "plt.show()"
   ]
  },
  {
   "cell_type": "code",
   "execution_count": 27,
   "metadata": {},
   "outputs": [
    {
     "data": {
      "text/plain": [
       "1985    80502\n",
       "1984    58190\n",
       "1988    46318\n",
       "1987    39206\n",
       "1978    38008\n",
       "1986    35425\n",
       "1980    29532\n",
       "1989    29310\n",
       "1979    28357\n",
       "1997    27538\n",
       "1993    25559\n",
       "1996    25253\n",
       "1998    22486\n",
       "1983    21265\n",
       "1976    19622\n",
       "1981    19112\n",
       "1977    19089\n",
       "1992    18188\n",
       "1999    17663\n",
       "1995    17098\n",
       "1975    15887\n",
       "2001    15867\n",
       "2000    15411\n",
       "1974    13376\n",
       "2003    12542\n",
       "1982    12188\n",
       "1970    10446\n",
       "2002    10108\n",
       "1990     8472\n",
       "1973     7904\n",
       "1969     7765\n",
       "1971     7333\n",
       "2004     6673\n",
       "1994     5872\n",
       "1967     5633\n",
       "1972     5322\n",
       "2005     3055\n",
       "2012     2792\n",
       "2013     2692\n",
       "2006     2324\n",
       "1968     1735\n",
       "2015     1556\n",
       "2011     1489\n",
       "2008     1455\n",
       "2009     1195\n",
       "1991     1124\n",
       "2014     1088\n",
       "2010      893\n",
       "2007      676\n",
       "1966       24\n",
       "2016       13\n",
       "Name: lease_commence_date, dtype: int64"
      ]
     },
     "execution_count": 27,
     "metadata": {},
     "output_type": "execute_result"
    }
   ],
   "source": [
    "# Observing any form of relationship between count of sales and lease_commence_date\n",
    "df['lease_commence_date'].value_counts()"
   ]
  },
  {
   "cell_type": "code",
   "execution_count": 28,
   "metadata": {},
   "outputs": [
    {
     "name": "stderr",
     "output_type": "stream",
     "text": [
      "C:\\Users\\User\\Anaconda3\\lib\\site-packages\\scipy\\stats\\stats.py:1713: FutureWarning: Using a non-tuple sequence for multidimensional indexing is deprecated; use `arr[tuple(seq)]` instead of `arr[seq]`. In the future this will be interpreted as an array index, `arr[np.array(seq)]`, which will result either in an error or a different result.\n",
      "  return np.add.reduce(sorted[indexer] * weights, axis=axis) / sumval\n"
     ]
    },
    {
     "data": {
      "image/png": "[encoded data removed]",
      "text/plain": [
       "<Figure size 842.4x595.44 with 1 Axes>"
      ]
     },
     "metadata": {},
     "output_type": "display_data"
    }
   ],
   "source": [
    "# Constructing a line plot, emulating a time series\n",
    "fig, ax = plt.subplots()\n",
    "fig.set_size_inches(11.7, 8.27)\n",
    "ax = sns.lineplot(data=df, x='lease_commence_date', y='resale_price', marker='o')\n",
    "plt.show()"
   ]
  },
  {
   "cell_type": "code",
   "execution_count": 29,
   "metadata": {},
   "outputs": [
    {
     "name": "stdout",
     "output_type": "stream",
     "text": [
      "<class 'pandas.core.frame.DataFrame'>\n",
      "RangeIndex: 800631 entries, 0 to 800630\n",
      "Data columns (total 11 columns):\n",
      "block                  800631 non-null object\n",
      "flat_model             800631 non-null object\n",
      "flat_type              800631 non-null object\n",
      "floor_area_sqm         800631 non-null float64\n",
      "lease_commence_date    800631 non-null object\n",
      "month                  800631 non-null object\n",
      "remaining_lease        91577 non-null object\n",
      "resale_price           800631 non-null float64\n",
      "storey_range           800631 non-null object\n",
      "street_name            800631 non-null object\n",
      "town                   800631 non-null object\n",
      "dtypes: float64(2), object(9)\n",
      "memory usage: 67.2+ MB\n"
     ]
    }
   ],
   "source": [
    "df.info()"
   ]
  }
 ],
 "metadata": {
  "kernelspec": {
   "display_name": "Python 3",
   "language": "python",
   "name": "python3"
  },
  "language_info": {
   "codemirror_mode": {
    "name": "ipython",
    "version": 3
   },
   "file_extension": ".py",
   "mimetype": "text/x-python",
   "name": "python",
   "nbconvert_exporter": "python",
   "pygments_lexer": "ipython3",
   "version": "3.7.0"
  }
 },
 "nbformat": 4,
 "nbformat_minor": 2
}
